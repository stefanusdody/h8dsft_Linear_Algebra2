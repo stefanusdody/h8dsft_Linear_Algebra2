{
 "cells": [
  {
   "cell_type": "code",
   "execution_count": 1,
   "id": "c2c7bde4",
   "metadata": {},
   "outputs": [],
   "source": [
    "# import library\n",
    "import numpy as np\n",
    "import sympy as sy\n",
    "sy.init_printing()"
   ]
  },
  {
   "cell_type": "markdown",
   "id": "df62c8e9",
   "metadata": {},
   "source": [
    "### 1. Periksa apakah w=(-4,5,4) merupakan kombinasi linear dari v1= (2,1,0) dan v2=(1,3,2)"
   ]
  },
  {
   "cell_type": "code",
   "execution_count": 2,
   "id": "fbb7f9d8",
   "metadata": {},
   "outputs": [
    {
     "data": {
      "text/plain": [
       "array([[ 2,  1, -4],\n",
       "       [ 1,  3,  5],\n",
       "       [ 0,  2,  4]])"
      ]
     },
     "execution_count": 2,
     "metadata": {},
     "output_type": "execute_result"
    }
   ],
   "source": [
    "A = np.array([[2,1,-4],[1,3,5],[0,2,4]])\n",
    "A"
   ]
  },
  {
   "cell_type": "code",
   "execution_count": 3,
   "id": "7f9b0557",
   "metadata": {},
   "outputs": [
    {
     "data": {
      "text/latex": [
       "$\\displaystyle \\left[\\begin{matrix}2 & 1 & -4\\\\1 & 3 & 5\\\\0 & 2 & 4\\end{matrix}\\right]$"
      ],
      "text/plain": [
       "⎡2  1  -4⎤\n",
       "⎢        ⎥\n",
       "⎢1  3  5 ⎥\n",
       "⎢        ⎥\n",
       "⎣0  2  4 ⎦"
      ]
     },
     "execution_count": 3,
     "metadata": {},
     "output_type": "execute_result"
    }
   ],
   "source": [
    "A = sy.Matrix(A)\n",
    "A"
   ]
  },
  {
   "cell_type": "code",
   "execution_count": 4,
   "id": "57935496",
   "metadata": {},
   "outputs": [
    {
     "data": {
      "text/latex": [
       "$\\displaystyle \\left( \\left[\\begin{matrix}1 & 0 & 0\\\\0 & 1 & 0\\\\0 & 0 & 1\\end{matrix}\\right], \\  \\left( 0, \\  1, \\  2\\right)\\right)$"
      ],
      "text/plain": [
       "⎛⎡1  0  0⎤           ⎞\n",
       "⎜⎢       ⎥           ⎟\n",
       "⎜⎢0  1  0⎥, (0, 1, 2)⎟\n",
       "⎜⎢       ⎥           ⎟\n",
       "⎝⎣0  0  1⎦           ⎠"
      ]
     },
     "execution_count": 4,
     "metadata": {},
     "output_type": "execute_result"
    }
   ],
   "source": [
    "A.rref() #Operasi Baris Element(OBE)"
   ]
  },
  {
   "cell_type": "markdown",
   "id": "600fe040",
   "metadata": {},
   "source": [
    "w bukan merupakan kombinasi linier, hal tersebut dikarenakan adanya free variabel yaitu:"
   ]
  },
  {
   "cell_type": "markdown",
   "id": "2127e75a",
   "metadata": {},
   "source": [
    "$$\n",
    "v_1 = free\\\\\n",
    "v_2 = free\\\\\n",
    "free = w \n",
    "$$"
   ]
  },
  {
   "cell_type": "markdown",
   "id": "56a140cd",
   "metadata": {},
   "source": [
    "### 2. Misalkan V dan W adalah ruangan vektor. Jika $T:\\ V\\rightarrow W$ adalah transformasi linear dan $u\\in V$, maka buktikan $T(-u)=-T(u)$"
   ]
  },
  {
   "cell_type": "code",
   "execution_count": 5,
   "id": "fe64a5f4",
   "metadata": {},
   "outputs": [
    {
     "data": {
      "text/plain": [
       "array([-2, -1,  0])"
      ]
     },
     "execution_count": 5,
     "metadata": {},
     "output_type": "execute_result"
    }
   ],
   "source": [
    "V = np.array([-2, -1, 0])\n",
    "V"
   ]
  },
  {
   "cell_type": "code",
   "execution_count": 6,
   "id": "34462f4c",
   "metadata": {},
   "outputs": [
    {
     "data": {
      "text/plain": [
       "array([-4,  5,  4])"
      ]
     },
     "execution_count": 6,
     "metadata": {},
     "output_type": "execute_result"
    }
   ],
   "source": [
    "W = np.array([-4,5,4])\n",
    "W"
   ]
  },
  {
   "cell_type": "code",
   "execution_count": 8,
   "id": "ea065c66",
   "metadata": {},
   "outputs": [
    {
     "data": {
      "text/plain": [
       "array([ 8, -5,  0])"
      ]
     },
     "execution_count": 8,
     "metadata": {},
     "output_type": "execute_result"
    }
   ],
   "source": [
    "# transformasi V ke W\n",
    "T = V * W\n",
    "T"
   ]
  },
  {
   "cell_type": "code",
   "execution_count": null,
   "id": "49411733",
   "metadata": {},
   "outputs": [],
   "source": []
  }
 ],
 "metadata": {
  "kernelspec": {
   "display_name": "Python 3",
   "language": "python",
   "name": "python3"
  },
  "language_info": {
   "codemirror_mode": {
    "name": "ipython",
    "version": 3
   },
   "file_extension": ".py",
   "mimetype": "text/x-python",
   "name": "python",
   "nbconvert_exporter": "python",
   "pygments_lexer": "ipython3",
   "version": "3.8.5"
  }
 },
 "nbformat": 4,
 "nbformat_minor": 5
}
