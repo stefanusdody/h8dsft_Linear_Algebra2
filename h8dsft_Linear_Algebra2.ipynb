{
 "cells": [
  {
   "cell_type": "code",
   "execution_count": 1,
   "id": "c2c7bde4",
   "metadata": {},
   "outputs": [],
   "source": [
    "# import library\n",
    "import numpy as np\n",
    "import sympy as sy\n",
    "sy.init_printing()"
   ]
  },
  {
   "cell_type": "markdown",
   "id": "df62c8e9",
   "metadata": {},
   "source": [
    "#### Periksa apakah w=(-4,5,4) merupakan kombinasi linear dari v1= (2,1,0) dan v2=(1,3,2)"
   ]
  },
  {
   "cell_type": "code",
   "execution_count": 4,
   "id": "fbb7f9d8",
   "metadata": {},
   "outputs": [],
   "source": [
    "A = np.array([[2,1,-4],[1,3,5],[0,2,4]])\n",
    "A = sy.Matrix(A)"
   ]
  },
  {
   "cell_type": "code",
   "execution_count": 5,
   "id": "57935496",
   "metadata": {},
   "outputs": [
    {
     "data": {
      "text/latex": [
       "$\\displaystyle \\left( \\left[\\begin{matrix}1 & 0 & 0\\\\0 & 1 & 0\\\\0 & 0 & 1\\end{matrix}\\right], \\  \\left( 0, \\  1, \\  2\\right)\\right)$"
      ],
      "text/plain": [
       "⎛⎡1  0  0⎤           ⎞\n",
       "⎜⎢       ⎥           ⎟\n",
       "⎜⎢0  1  0⎥, (0, 1, 2)⎟\n",
       "⎜⎢       ⎥           ⎟\n",
       "⎝⎣0  0  1⎦           ⎠"
      ]
     },
     "execution_count": 5,
     "metadata": {},
     "output_type": "execute_result"
    }
   ],
   "source": [
    "A.rref() #Operasi Baris Element(OBE)"
   ]
  },
  {
   "cell_type": "markdown",
   "id": "600fe040",
   "metadata": {},
   "source": [
    "*W* bukan merupakan kombinasi linear  dari *V1* dan *V2*, hal tersebut dikarenakan adanya free variabel yaitu:"
   ]
  },
  {
   "cell_type": "markdown",
   "id": "2127e75a",
   "metadata": {},
   "source": [
    "$$\n",
    "v_1 = free\\\\\n",
    "v_2 = free\\\\\n",
    "free = w \n",
    "$$"
   ]
  },
  {
   "cell_type": "markdown",
   "id": "56a140cd",
   "metadata": {},
   "source": [
    "#### Misalkan *V* dan *W* adalah ruangan vektor. Jika $T:\\ V\\rightarrow W$ adalah transformasi linear dan $u\\in V$, maka buktikan $T(-u)=-T(u)$"
   ]
  },
  {
   "cell_type": "markdown",
   "id": "25839ecb",
   "metadata": {},
   "source": [
    "$\n",
    "u = \\begin{bmatrix} 1 & 2 \\end{bmatrix}\n",
    "$\n",
    "\n",
    "$\n",
    "T = \\begin{bmatrix} 2 & 1 \\\\ 1 & 3 \\end{bmatrix}\n",
    "$\n",
    "\n",
    "i = -1"
   ]
  },
  {
   "cell_type": "code",
   "execution_count": null,
   "id": "34462f4c",
   "metadata": {},
   "outputs": [],
   "source": [
    "u = np.array([1,2])\n",
    "u"
   ]
  },
  {
   "cell_type": "code",
   "execution_count": null,
   "id": "444d878b",
   "metadata": {},
   "outputs": [],
   "source": [
    "T = np.array([[2,1],[1,3]])\n",
    "T"
   ]
  },
  {
   "cell_type": "code",
   "execution_count": null,
   "id": "377e626f",
   "metadata": {},
   "outputs": [],
   "source": [
    "i = -1"
   ]
  },
  {
   "cell_type": "markdown",
   "id": "54c83458",
   "metadata": {},
   "source": [
    "### T(-u) :"
   ]
  },
  {
   "cell_type": "code",
   "execution_count": null,
   "id": "49411733",
   "metadata": {},
   "outputs": [],
   "source": [
    "T.dot(i * u)"
   ]
  },
  {
   "cell_type": "markdown",
   "id": "2f1e1c12",
   "metadata": {},
   "source": [
    "### -T(u) :"
   ]
  },
  {
   "cell_type": "code",
   "execution_count": null,
   "id": "852193b1",
   "metadata": {},
   "outputs": [],
   "source": [
    "i*T.dot(u)"
   ]
  },
  {
   "cell_type": "markdown",
   "id": "b05e035b",
   "metadata": {},
   "source": [
    "$T:\\ V\\rightarrow W$ adalah transformasi linear "
   ]
  },
  {
   "cell_type": "code",
   "execution_count": null,
   "id": "6f9baa6a",
   "metadata": {},
   "outputs": [],
   "source": []
  }
 ],
 "metadata": {
  "kernelspec": {
   "display_name": "Python 3",
   "language": "python",
   "name": "python3"
  },
  "language_info": {
   "codemirror_mode": {
    "name": "ipython",
    "version": 3
   },
   "file_extension": ".py",
   "mimetype": "text/x-python",
   "name": "python",
   "nbconvert_exporter": "python",
   "pygments_lexer": "ipython3",
   "version": "3.8.5"
  }
 },
 "nbformat": 4,
 "nbformat_minor": 5
}
